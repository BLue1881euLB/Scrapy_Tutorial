{
 "cells": [
  {
   "cell_type": "code",
   "execution_count": null,
   "metadata": {},
   "outputs": [],
   "source": [
    "# This package will contain the spiders of your Scrapy project\n",
    "#\n",
    "# Please refer to the documentation for information on how to create and manage\n",
    "# your spiders.\n",
    "import scrapy\n",
    "\n",
    "class BookSpider(scrapy.Spider):\n",
    "   name = \"books\"\n",
    "\n",
    "   start_urls = ['http://books.toscrape.com/']\n",
    "\n",
    "   def parse(self, response):\n",
    "       for book in response.css('article.product_pod'):\n",
    "           name = book.xpath('./h3/a/@title').extract_first()\n",
    "           price = book.css('p.price_color::text').extract_first()\n",
    "           yield{\n",
    "               'name': name,\n",
    "               'price': price,\n",
    "           }\n",
    "       next_url = response.css('ul.pager li.next a::attr(href)').extract_first()\n",
    "       if next_url:\n",
    "           next_url = response.urljoin(next_url)\n",
    "           yield scrapy.Request(next_url,callback=self.parse)\n",
    "\n",
    "\n"
   ]
  }
 ],
 "metadata": {
  "language": "python"
 },
 "nbformat": 4,
 "nbformat_minor": 2
}
